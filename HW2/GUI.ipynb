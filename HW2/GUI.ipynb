{
 "cells": [
  {
   "cell_type": "code",
   "execution_count": 3,
   "id": "bd53ae4e",
   "metadata": {},
   "outputs": [],
   "source": [
    "import pygame as pg\n",
    "import sys\n",
    "from random import randint"
   ]
  },
  {
   "cell_type": "code",
   "execution_count": 4,
   "id": "aedfe0e8",
   "metadata": {},
   "outputs": [],
   "source": [
    "WIN_SIZE = 500\n",
    "CELL_SIZE = WIN_SIZE // 3\n",
    "INF = float('inf')\n",
    "vec2 = pg.math.Vector2\n",
    "CELL_CENTER = vec2(CELL_SIZE / 2)"
   ]
  },
  {
   "cell_type": "code",
   "execution_count": 5,
   "id": "33ebdf62",
   "metadata": {},
   "outputs": [],
   "source": [
    "class TicTacToe:\n",
    "    def __init__(self, game):\n",
    "        self.game = game\n",
    "        self.field_image = self.get_scaled_image(path='resources/field.png', res=[WIN_SIZE] * 2)\n",
    "        self.O_image = self.get_scaled_image(path='resources/o.png', res=[CELL_SIZE] * 2)\n",
    "        self.X_image = self.get_scaled_image(path='resources/x.png', res=[CELL_SIZE] * 2)\n",
    "\n",
    "        self.game_array = [[INF, INF, INF],\n",
    "                           [INF, INF, INF],\n",
    "                           [INF, INF, INF]]\n",
    "        \n",
    "        self.player = randint(0, 1)\n",
    "        self.line_indices_array = [[(0, 0), (0, 1), (0, 2)],\n",
    "                                   [(1, 0), (1, 1), (1, 2)],\n",
    "                                   [(2, 0), (2, 1), (2, 2)],\n",
    "                                   [(0, 0), (1, 0), (2, 0)],\n",
    "                                   [(0, 1), (1, 1), (2, 1)],\n",
    "                                   [(0, 2), (1, 2), (2, 2)],\n",
    "                                   [(0, 0), (1, 1), (2, 2)],\n",
    "                                   [(0, 2), (1, 1), (2, 0)]]\n",
    "        self.winner = None\n",
    "        self.game_steps = 0\n",
    "        self.font = pg.font.SysFont('Verdana', CELL_SIZE // 4, True)\n",
    "\n",
    "    def check_winner(self):\n",
    "        for line_indices in self.line_indices_array:\n",
    "            sum_line = sum([self.game_array[i][j] for i, j in line_indices])\n",
    "            if sum_line in {0, 3}:\n",
    "                self.winner = 'XO'[sum_line == 0]\n",
    "                self.winner_line = [vec2(line_indices[0][::-1]) * CELL_SIZE + CELL_CENTER,\n",
    "                                    vec2(line_indices[2][::-1]) * CELL_SIZE + CELL_CENTER]\n",
    "\n",
    "    def run_game_process(self):\n",
    "        current_cell = vec2(pg.mouse.get_pos()) // CELL_SIZE\n",
    "        col, row = map(int, current_cell)\n",
    "        left_click = pg.mouse.get_pressed()[0]\n",
    "\n",
    "        if left_click and self.game_array[row][col] == INF and not self.winner:\n",
    "            self.game_array[row][col] = self.player\n",
    "            self.player = not self.player\n",
    "            self.game_steps += 1\n",
    "            self.check_winner()\n",
    "\n",
    "    def draw_objects(self):\n",
    "        for y, row in enumerate(self.game_array):\n",
    "            for x, obj in enumerate(row):\n",
    "                if obj != INF:\n",
    "                    self.game.screen.blit(self.X_image if obj else self.O_image, vec2(x, y) * CELL_SIZE)\n",
    "\n",
    "    def draw_winner(self):\n",
    "        if self.winner:\n",
    "            pg.draw.line(self.game.screen, 'red', *self.winner_line, CELL_SIZE // 8)\n",
    "            label = self.font.render(f'Player \"{self.winner}\" wins!', True, 'white', 'black')\n",
    "            self.game.screen.blit(label, (WIN_SIZE // 2 - label.get_width() // 2, WIN_SIZE // 4))\n",
    "\n",
    "    def draw(self):\n",
    "        self.game.screen.blit(self.field_image, (0, 0))\n",
    "        self.draw_objects()\n",
    "        self.draw_winner()\n",
    "\n",
    "    @staticmethod\n",
    "    def get_scaled_image(path, res):\n",
    "        img = pg.image.load(path)\n",
    "        return pg.transform.smoothscale(img, res)\n",
    "\n",
    "    def print_caption(self):\n",
    "        pg.display.set_caption(f'Player \"{\"OX\"[self.player]}\" turn!')\n",
    "        if self.winner:\n",
    "            pg.display.set_caption(f'Player \"{self.winner}\" wins! Press Space to Restart')\n",
    "        elif self.game_steps == 9:\n",
    "            pg.display.set_caption(f'Game Over! Press Space to Restart')\n",
    "\n",
    "    def run(self):\n",
    "        self.print_caption()\n",
    "        self.draw()\n",
    "        self.run_game_process()"
   ]
  },
  {
   "cell_type": "code",
   "execution_count": 6,
   "id": "341c55f8",
   "metadata": {},
   "outputs": [],
   "source": [
    "class Game:\n",
    "    def __init__(self):\n",
    "        pg.init()\n",
    "        self.screen = pg.display.set_mode([WIN_SIZE] * 2)\n",
    "        self.clock = pg.time.Clock()\n",
    "        self.tic_tac_toe = TicTacToe(self)\n",
    "\n",
    "    def new_game(self):\n",
    "        self.tic_tac_toe = TicTacToe(self)\n",
    "\n",
    "    def check_events(self):\n",
    "        for event in pg.event.get():\n",
    "            if event.type == pg.QUIT:\n",
    "                pg.quit()\n",
    "                sys.exit()\n",
    "            if event.type == pg.KEYDOWN:\n",
    "                if event.key == pg.K_SPACE:\n",
    "                    self.new_game()\n",
    "\n",
    "    def run(self):\n",
    "        while True:\n",
    "            self.tic_tac_toe.run()\n",
    "            self.check_events()\n",
    "            pg.display.update()\n",
    "            self.clock.tick(60)"
   ]
  },
  {
   "cell_type": "code",
   "execution_count": 7,
   "id": "688d6e90",
   "metadata": {},
   "outputs": [
    {
     "ename": "SystemExit",
     "evalue": "",
     "output_type": "error",
     "traceback": [
      "An exception has occurred, use %tb to see the full traceback.\n",
      "\u001b[1;31mSystemExit\u001b[0m\n"
     ]
    }
   ],
   "source": [
    "if __name__ == '__main__':\n",
    "    game = Game()\n",
    "    game.run()"
   ]
  },
  {
   "cell_type": "code",
   "execution_count": null,
   "id": "83f8857d",
   "metadata": {},
   "outputs": [],
   "source": []
  }
 ],
 "metadata": {
  "kernelspec": {
   "display_name": "Python 3 (ipykernel)",
   "language": "python",
   "name": "python3"
  },
  "language_info": {
   "codemirror_mode": {
    "name": "ipython",
    "version": 3
   },
   "file_extension": ".py",
   "mimetype": "text/x-python",
   "name": "python",
   "nbconvert_exporter": "python",
   "pygments_lexer": "ipython3",
   "version": "3.11.5"
  }
 },
 "nbformat": 4,
 "nbformat_minor": 5
}
