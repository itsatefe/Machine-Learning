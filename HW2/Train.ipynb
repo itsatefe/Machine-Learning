{
 "cells": [
  {
   "cell_type": "code",
   "execution_count": null,
   "id": "24a6e1f3",
   "metadata": {},
   "outputs": [],
   "source": [
    "import numpy as np\n",
    "import pandas as pd\n",
    "import matplotlib.pyplot as plt\n",
    "from tqdm.auto import tqdm\n",
    "from Environment import Environment\n",
    "from Agent import Agent\n",
    "from LinearRegression import LinearRegression\n",
    "from TicTacToe import TicTacToe\n",
    "import pickle"
   ]
  },
  {
   "cell_type": "code",
   "execution_count": null,
   "id": "d1d43f14",
   "metadata": {},
   "outputs": [],
   "source": [
    "model = LinearRegression(7)\n",
    "for game in tqdm(range(10000)):\n",
    "    env = Environment()\n",
    "    ag1 = Agent('x', model)\n",
    "    ag2 = Agent('o', model)\n",
    "    agents = [ag1, ag2]\n",
    "    features = [[], []]\n",
    "    turn = 0\n",
    "    while True:\n",
    "        curr_board = env.get_state()\n",
    "        action, feature = agents[turn].predict_action(curr_board)\n",
    "        features[turn].append(feature)\n",
    "        env.make_action(action)\n",
    "        stat = env.finish()\n",
    "        turn = 1 - turn\n",
    "        if stat > 0:\n",
    "            break\n",
    "\n",
    "    if stat == 1:\n",
    "        data = np.stack(features[0] + features[1])\n",
    "        labels = np.zeros((len(data), 1))\n",
    "    else:\n",
    "        winner = stat % 2\n",
    "        data = np.stack(features[winner] + features[1-winner])\n",
    "        labels = np.concatenate([np.ones((len(features[winner]), 1))*100,np.ones((len(features[1-winner]), 1))*-100], axis = 0)\n",
    "\n",
    "    ind = np.arange(len(data))\n",
    "    np.random.shuffle(ind)\n",
    "    data = data[ind]\n",
    "    labels = labels[ind]\n",
    "\n",
    "    model.fit(data, labels)"
   ]
  },
  {
   "cell_type": "code",
   "execution_count": null,
   "id": "d48c3dba",
   "metadata": {},
   "outputs": [],
   "source": [
    "with open('linear_regression_model.pkl', 'wb') as file:\n",
    "    pickle.dump(model.params, file)"
   ]
  }
 ],
 "metadata": {
  "kernelspec": {
   "display_name": "Python 3 (ipykernel)",
   "language": "python",
   "name": "python3"
  },
  "language_info": {
   "codemirror_mode": {
    "name": "ipython",
    "version": 3
   },
   "file_extension": ".py",
   "mimetype": "text/x-python",
   "name": "python",
   "nbconvert_exporter": "python",
   "pygments_lexer": "ipython3",
   "version": "3.11.5"
  }
 },
 "nbformat": 4,
 "nbformat_minor": 5
}
